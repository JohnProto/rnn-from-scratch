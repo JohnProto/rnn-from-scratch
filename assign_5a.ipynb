{
 "cells": [
  {
   "cell_type": "markdown",
   "metadata": {},
   "source": [
    "# CS - 587 : Exercise 5a ~ RNN formulation\n",
    "## Scope:\n",
    "The goal of this assignment is to get familiar with the structure of a Recurrent Neural Network (RNN) cell and model.\n",
    "\n",
    "In your assignment you will implement step-by-step the structure and functionalities of an RNN cell and model. In this part, you will only need to define the forward computations, ignoring backpropagation (for now)."
   ]
  },
  {
   "cell_type": "code",
   "execution_count": 8,
   "metadata": {},
   "outputs": [],
   "source": [
    "import numpy as np\n",
    "import os\n",
    "import random"
   ]
  },
  {
   "cell_type": "markdown",
   "metadata": {},
   "source": [
    "# **Utility Functions**\n",
    "You should use them, but you don't need to modify them\n",
    "<a id='softmax_reference'></a>"
   ]
  },
  {
   "cell_type": "code",
   "execution_count": 9,
   "metadata": {},
   "outputs": [],
   "source": [
    "def softmax(x):\n",
    "    e_x = np.exp(x - np.max(x))\n",
    "    return e_x / e_x.sum(axis=0)\n",
    "\n",
    "\n",
    "def sigmoid(x):\n",
    "    return 1 / (1 + np.exp(-x))"
   ]
  },
  {
   "cell_type": "markdown",
   "metadata": {},
   "source": [
    "# **RNN cell**\n",
    "- Compute the hidden state (output of RNN cell), $\\alpha^{\\langle t\\rangle}$.\n",
    "- Use the hidden state to compute the prediction, $\\hat{y}^{\\langle t\\rangle}$ . Use the [soft-max that is imported in the script](#softmax_reference).\n",
    "- Store $(\\alpha^{\\langle t\\rangle}, \\alpha^{\\langle t-1\\rangle}, x^{\\langle t\\rangle}, parameters)$ in a python tuple, and return $\\alpha^{\\langle t\\rangle}, \\hat{y}^{\\langle t\\rangle}$ and the tuple."
   ]
  },
  {
   "cell_type": "code",
   "execution_count": 10,
   "metadata": {},
   "outputs": [],
   "source": [
    "#########################################################################################\n",
    "# Task 1   TODO:                                                                        #\n",
    "# 1. Define the operations that update 'a' at each RNN step                             #\n",
    "#    (i.e. the value of 'a' that exists in the RNN cell)                                #\n",
    "# 2. Store the value in 'a_next'                                                        #\n",
    "# 3. Define the prediction of the cell ('y_pred')                                       #\n",
    "# 4. Allowed functions that you can use are:                                            #\n",
    "#         np.tanh,       np.dot,       our softmax (see above)                          #\n",
    "# 5. Store computed values in a tuple with order 'a_next', 'a_prev', 'xt', 'parameters' #\n",
    "#########################################################################################\n",
    "\n",
    "def rnn_cell_forward(xt, a_prev, parameters):\n",
    "    \"\"\"\n",
    "    Implements a single forward step of the RNN-cell as described in Figure (1) in the pdf.\n",
    "\n",
    "    Arguments:\n",
    "        xt          - your input data at timestep \"t\"  ~ numpy array of shape (n_x, m)\n",
    "        a_prev      - Hidden state at timestep \"t-1\"   ~ numpy array of shape (n_a, m)\n",
    "        parameters  - python dictionary containing:\n",
    "            + Wax - Weight matrix multiplying the input          ~ numpy array of shape (n_a, n_x)\n",
    "            + Waa - Weight matrix multiplying the hidden state   ~ numpy array of shape (n_a, n_a)\n",
    "            + Wya - Weight matrix relating the hidden-state to the output ~ numpy array of shape (n_y, n_a)\n",
    "            + ba - Bias  ~ numpy array of shape (n_a, 1)\n",
    "            + by - Bias relating the hidden-state to the output  ~ numpy array of shape (n_y, 1)\n",
    "    Returns:\n",
    "        a_next  - next hidden state             ~ numpy array of shape (n_a, m)\n",
    "        yt_pred - prediction at timestep \"t\"    ~ numpy array of shape (n_y, m)\n",
    "        cache   - tuple of values needed for the backward pass, contains (a_next, a_prev, xt, parameters)\n",
    "    \"\"\"\n",
    "    \n",
    "    # Retrieve parameters from \"parameters\"\n",
    "    Wax = parameters[\"Wax\"]\n",
    "    Waa = parameters[\"Waa\"]\n",
    "    Wya = parameters[\"Wya\"]\n",
    "    ba = parameters[\"ba\"]\n",
    "    by = parameters[\"by\"]\n",
    "    \n",
    "    ##################### START CODE HERE (≈3-4 lines) #####################\n",
    "    \n",
    "    # 1. compute next activation state using the formula in the RNN cell figure\n",
    "    a_next = np.tanh(np.dot(Wax, xt) + np.dot(Waa, a_prev) + ba)\n",
    "\n",
    "    # 2. compute output of the current cell using the formula given above\n",
    "    yt_pred = softmax(np.dot(Wya, a_next) + by)\n",
    "    \n",
    "    # 3. store values you need for backward propagation in cache\n",
    "    cache = (a_next, a_prev, xt, parameters)\n",
    "  \n",
    "    ############################ END CODE HERE #############################\n",
    "    \n",
    "    return a_next, yt_pred, cache"
   ]
  },
  {
   "cell_type": "markdown",
   "metadata": {},
   "source": [
    "# **RNN model**\n",
    "\n",
    "A simple implementation of the forward pass:<br>\n",
    "\n",
    "You will fill in the `rnn_forward` function with the appropriate code to perform the following steps (in the order that they are mentioned):\n",
    "- Create two arrays of zeros with shapes\n",
    "    - $(n_a , m, T_x) \\to$ to store the hidden states (name it `a`)\n",
    "    - $(n_y , m, T_x) \\to$ to store the predictions (name it `y_pred`)\n",
    "- Initialize the 2D hidden state `a_next` by setting it equal to the initial hidden state, `a0`.\n",
    "- For each time-step t:\n",
    "    - Get the corresponding data to be fed to the RNN cell. This will be a slice of $x$, with $x$ having a shape of $(n_x, m, T_x)$.\n",
    "    - Update the hidden state $\\alpha^{\\langle t\\rangle}$ using the **a_next**, the prediction $\\hat{y}^{\\langle t\\rangle}$ and the tuple that stores the values you need for backward propagation, by running `rnn_cell_forward`. Note that `a` has shape $(n_a , m, T_x)$.\n",
    "    - Store the current hidden state in the 3D tensor `a`.\n",
    "    - Store the current $\\hat{y}^{\\langle t\\rangle}$ prediction (named `yt_pred` in your code) in the tensor $\\hat{y}_{pred}$.\n",
    "    - Add the current values you need for backward propagation (that are store in your tuple), to the list caches."
   ]
  },
  {
   "cell_type": "code",
   "execution_count": 11,
   "metadata": {},
   "outputs": [],
   "source": [
    "#####################################################################################\n",
    "# Task 2   TODO:                                                                    #\n",
    "# 1. Define the tensors that store the hidden states a, and the predictions y       #\n",
    "# FOR EACH TIMESTEP                                                                 #\n",
    "# 2  Feed the current input x to the RNN cell (rnn_cell_forward)                    #\n",
    "# 3. Use the outputs of 2.2 to define the current prediction of the cell            # \n",
    "#    and the next hidden state a_next.                                              # \n",
    "#                                                                                   #\n",
    "# 4. Store the  prediction and next hidden state values in the 3D tensors a, y_pred #\n",
    "# 5. Append the tuple that has the values of all the parameters of the cell into    #\n",
    "#    the list named caches                                                          #\n",
    "#####################################################################################\n",
    "\n",
    "def rnn_forward(x, a0, parameters):\n",
    "    \"\"\"\n",
    "    Implement the forward propagation of the recurrent neural network described in Figure (2) in the pdf.\n",
    "\n",
    "    Arguments:\n",
    "        x  - Input data for every time-step  ~ numpy array of shape (n_x, m, T_x)\n",
    "        a0 - Initial hidden state            ~ numpy array of shape (n_a, m)\n",
    "        parameters - python dictionary containing:\n",
    "            + Waa - Weight matrix multiplying the hidden state   ~ numpy array of shape (n_a, n_a)\n",
    "            + Wax - Weight matrix multiplying the input          ~ numpy array of shape (n_a, n_x)\n",
    "            + Wya - Weight matrix relating the hidden-state to the output ~ numpy array of shape (n_y, n_a)\n",
    "            + ba - Bias   ~ numpy array of shape (n_a, 1)\n",
    "            + by - Bias relating the hidden-state to the output  ~ numpy array of shape (n_y, 1)\n",
    "\n",
    "    Returns:\n",
    "        a      - Hidden states for every time-step    ~ numpy array of shape (n_a, m, T_x)\n",
    "        y_pred - Predictions for every time-step      ~ numpy array of shape (n_y, m, T_x)\n",
    "        caches - tuple of values needed for the backward pass, contains (list of caches, x)\n",
    "    \"\"\"\n",
    "    \n",
    "    # Initialize \"caches\" which will contain the list of all caches\n",
    "    caches = []\n",
    "    \n",
    "    # Retrieve dimensions from shapes of x and parameters[\"Wya\"]\n",
    "    n_x, m, T_x = x.shape\n",
    "    n_y, n_a = parameters[\"Wya\"].shape\n",
    "    \n",
    "    ############################ START CODE HERE ###########################\n",
    "    \n",
    "    # 1. initialize \"a\" and \"y_pred\" with zeros\n",
    "    a = np.zeros((n_a, m, T_x))\n",
    "    y_pred = np.zeros((n_y, m, T_x))\n",
    "\n",
    "    # 2. Initialize a_next\n",
    "    a_next = a0\n",
    "\n",
    "    # 3. loop over all time-steps T_x\n",
    "    for t in range(T_x):\n",
    "        xt = x[:, :, t]\n",
    "        a_next, yt_pred, cache = rnn_cell_forward(xt, a_next, parameters)\n",
    "        a[:, :, t] = a_next\n",
    "        y_pred[:, :, t] = yt_pred\n",
    "        caches.append(cache)\n",
    "\n",
    "    ############################ END CODE HERE #############################\n",
    "    \n",
    "    # store values needed for backward propagation in cache\n",
    "    caches = (caches, x)\n",
    "    \n",
    "    return a, y_pred, caches\n"
   ]
  },
  {
   "cell_type": "markdown",
   "metadata": {},
   "source": [
    "**Check if everything works**:\n",
    "\n",
    "`a[4][1]` should have `[-0.99999375  0.77911235 -0.99861469 -0.99833267]`\n",
    "\n",
    "`y_pred[1][3]` should have `[ 0.79560373  0.86224861  0.11118257  0.81515947]`"
   ]
  },
  {
   "cell_type": "code",
   "execution_count": 12,
   "metadata": {},
   "outputs": [
    {
     "name": "stdout",
     "output_type": "stream",
     "text": [
      "a[4][1] = [-0.99999375  0.77911235 -0.99861469 -0.99833267]\n",
      "\n",
      "y_pred[1][3] = [0.79560373 0.86224861 0.11118257 0.81515947]\n"
     ]
    }
   ],
   "source": [
    "np.random.seed(1)\n",
    "x_tmp = np.random.randn(3, 10, 4)\n",
    "a0_tmp = np.random.randn(5, 10)\n",
    "parameters_tmp = {}\n",
    "parameters_tmp['Waa'] = np.random.randn(5,5)\n",
    "parameters_tmp['Wax'] = np.random.randn(5,3)\n",
    "parameters_tmp['Wya'] = np.random.randn(2,5)\n",
    "parameters_tmp['ba'] = np.random.randn(5,1)\n",
    "parameters_tmp['by'] = np.random.randn(2,1)\n",
    "\n",
    "a_tmp, y_pred_tmp, caches_tmp = rnn_forward(x_tmp, a0_tmp, parameters_tmp)\n",
    "print(f\"a[4][1] = {a_tmp[4][1]}\\n\")\n",
    "\n",
    "print(f\"y_pred[1][3] = {y_pred_tmp[1][3]}\")"
   ]
  },
  {
   "cell_type": "markdown",
   "metadata": {},
   "source": [
    "--- \n",
    "# **BONUS part** (up to 10% bonus)\n",
    "\n",
    "Implement a GRU cell, as shown in the figure in the assignment pdf.\n",
    "\n",
    "Good luck :)"
   ]
  },
  {
   "cell_type": "code",
   "execution_count": 6,
   "metadata": {},
   "outputs": [],
   "source": [
    "def GRU_cell_forward(xt, a_prev, parameters):\n",
    "    \"\"\"\n",
    "    Implement a single forward step of the GRU-cell as described in Figure in your assignment.\n",
    "\n",
    "    Arguments:\n",
    "        xt     - your input data at timestep \"t\"  ~ numpy array of shape (n_x, m)\n",
    "        a_prev - Hidden state at timestep \"t-1\"   ~ numpy array of shape (n_a, m)\n",
    "    \n",
    "        parameters - python dictionary containing:\n",
    "            + Wz - Weight matrix of the input filter gate    ~ numpy array of shape (n_a, n_a + n_x)\n",
    "            + Wr - Weight matrix of the forget/reset gate    ~ numpy array of shape (n_a, n_a + n_x)\n",
    "            + Wh - Weight matrix of the update gate          ~ numpy array of shape (n_a, n_a + n_x)\n",
    "            + Wy - Weight matrix relating the hidden-state to the output ~ numpy array of shape (n_y, n_a)\n",
    "            + by - Bias relating the hidden-state to the output          ~ numpy array of shape (n_y, 1)\n",
    "\n",
    "    Returns:\n",
    "        a_next  - next hidden state           ~ numpy array of shape (n_a, m)\n",
    "        yt_pred - prediction at timestep \"t\"  ~ numpy array of shape (n_y, m)\n",
    "        cache   - tuple of values needed for the backward pass, contains (a_next, c_next, a_prev, xt, parameters)\n",
    "    \n",
    "    \"\"\"\n",
    "    # Retrieve parameters from \"parameters\"\n",
    "    Wz = parameters[\"Wz\"] # input filter gate weight\n",
    "  \n",
    "    Wr = parameters[\"Wr\"] # update reset weight (notice the variable name)\n",
    "    Wh = parameters[\"Wh\"] # update hidden weight (notice the variable name)\n",
    "    \n",
    "    Wy = parameters[\"Wy\"] # prediction weight\n",
    "    by = parameters[\"by\"]\n",
    "    \n",
    "    # Retrieve dimensions from shapes of xt and Wy\n",
    "    n_x, m = xt.shape\n",
    "    n_y, n_a = Wy.shape\n",
    "\n",
    "    ############################ START CODE HERE ###########################\n",
    "    # 1. Concatenate 'a_prev' and 'xt' (≈1-3 lines)\n",
    "  \n",
    "    # 2. Compute values for 'zt', 'rt', 'ht_sl', 'a_next' using the given formulas of the figure (≈4-6 lines)\n",
    "\n",
    "    # 3. Compute prediction of the GRU cell (≈1 line)\n",
    "    \n",
    "    ############################ END CODE HERE #############################\n",
    "    \n",
    "    # store values needed for backward propagation in cache\n",
    "    cache = (a_next, a_prev, zt, rt, ht_sl, xt, parameters)\n",
    "\n",
    "    return a_next, yt_pred, cache"
   ]
  },
  {
   "cell_type": "markdown",
   "metadata": {},
   "source": [
    "**Test your implementation**\n",
    "\n",
    "You should get:\n",
    "- `a_next[4]` = `[-0.62573656  0.16011555  0.53546141 -0.59492405  0.3480744   0.13205611]`\n",
    "\n",
    "- `a_next.shape` = `(5, 6)`\n",
    "\n",
    "- `yt[1]` = `[0.4316982  0.02887545 0.52224397 0.21755424 0.04521213 0.36990543]`\n",
    "\n",
    "- `yt.shape` = `(2, 6)`\n",
    "\n",
    "- `cache[1][3]` = `[-1.11731035  0.2344157   1.65980218  0.74204416 -0.19183555 -0.88762896]`\n",
    "\n",
    "- `len(cache)` = `7`"
   ]
  },
  {
   "cell_type": "code",
   "execution_count": 7,
   "metadata": {},
   "outputs": [
    {
     "ename": "NameError",
     "evalue": "name 'a_next' is not defined",
     "output_type": "error",
     "traceback": [
      "\u001b[1;31m---------------------------------------------------------------------------\u001b[0m",
      "\u001b[1;31mNameError\u001b[0m                                 Traceback (most recent call last)",
      "Cell \u001b[1;32mIn[7], line 15\u001b[0m\n\u001b[0;32m     12\u001b[0m parameters_tmp[\u001b[38;5;124m'\u001b[39m\u001b[38;5;124mWy\u001b[39m\u001b[38;5;124m'\u001b[39m] \u001b[38;5;241m=\u001b[39m np\u001b[38;5;241m.\u001b[39mrandom\u001b[38;5;241m.\u001b[39mrandn(\u001b[38;5;241m2\u001b[39m,\u001b[38;5;241m5\u001b[39m)\n\u001b[0;32m     13\u001b[0m parameters_tmp[\u001b[38;5;124m'\u001b[39m\u001b[38;5;124mby\u001b[39m\u001b[38;5;124m'\u001b[39m] \u001b[38;5;241m=\u001b[39m np\u001b[38;5;241m.\u001b[39mrandom\u001b[38;5;241m.\u001b[39mrandn(\u001b[38;5;241m2\u001b[39m,\u001b[38;5;241m1\u001b[39m)\n\u001b[1;32m---> 15\u001b[0m a_next_tmp, yt_tmp, cache_tmp \u001b[38;5;241m=\u001b[39m GRU_cell_forward(xt_tmp, a_prev_tmp, parameters_tmp)\n\u001b[0;32m     16\u001b[0m \u001b[38;5;28mprint\u001b[39m(\u001b[38;5;124mf\u001b[39m\u001b[38;5;124m\"\u001b[39m\u001b[38;5;124ma_next[4] = \u001b[39m\u001b[38;5;132;01m{\u001b[39;00ma_next_tmp[\u001b[38;5;241m4\u001b[39m]\u001b[38;5;132;01m}\u001b[39;00m\u001b[38;5;124m\"\u001b[39m)\n\u001b[0;32m     17\u001b[0m \u001b[38;5;28mprint\u001b[39m(\u001b[38;5;124mf\u001b[39m\u001b[38;5;124m\"\u001b[39m\u001b[38;5;124ma_next.shape = \u001b[39m\u001b[38;5;132;01m{\u001b[39;00ma_next_tmp\u001b[38;5;241m.\u001b[39mshape\u001b[38;5;132;01m}\u001b[39;00m\u001b[38;5;130;01m\\n\u001b[39;00m\u001b[38;5;124m\"\u001b[39m)\n",
      "Cell \u001b[1;32mIn[6], line 45\u001b[0m, in \u001b[0;36mGRU_cell_forward\u001b[1;34m(xt, a_prev, parameters)\u001b[0m\n\u001b[0;32m     33\u001b[0m n_y, n_a \u001b[38;5;241m=\u001b[39m Wy\u001b[38;5;241m.\u001b[39mshape\n\u001b[0;32m     35\u001b[0m \u001b[38;5;66;03m############################ START CODE HERE ###########################\u001b[39;00m\n\u001b[0;32m     36\u001b[0m \u001b[38;5;66;03m# 1. Concatenate 'a_prev' and 'xt' (≈1-3 lines)\u001b[39;00m\n\u001b[0;32m     37\u001b[0m \n\u001b[1;32m   (...)\u001b[0m\n\u001b[0;32m     43\u001b[0m \n\u001b[0;32m     44\u001b[0m \u001b[38;5;66;03m# store values needed for backward propagation in cache\u001b[39;00m\n\u001b[1;32m---> 45\u001b[0m cache \u001b[38;5;241m=\u001b[39m (a_next, a_prev, zt, rt, ht_sl, xt, parameters)\n\u001b[0;32m     47\u001b[0m \u001b[38;5;28;01mreturn\u001b[39;00m a_next, yt_pred, cache\n",
      "\u001b[1;31mNameError\u001b[0m: name 'a_next' is not defined"
     ]
    }
   ],
   "source": [
    "np.random.seed(1)\n",
    "xt_tmp = np.random.randn(3,6)\n",
    "a_prev_tmp = np.random.randn(5,6)\n",
    "\n",
    "parameters_tmp = {}\n",
    "parameters_tmp['Wz'] = np.random.randn(5, 5+3)\n",
    "\n",
    "parameters_tmp['Wr'] = np.random.randn(5, 5+3)\n",
    "parameters_tmp['Wh'] = np.random.randn(5, 5+3)\n",
    "\n",
    "\n",
    "parameters_tmp['Wy'] = np.random.randn(2,5)\n",
    "parameters_tmp['by'] = np.random.randn(2,1)\n",
    "\n",
    "a_next_tmp, yt_tmp, cache_tmp = GRU_cell_forward(xt_tmp, a_prev_tmp, parameters_tmp)\n",
    "print(f\"a_next[4] = {a_next_tmp[4]}\")\n",
    "print(f\"a_next.shape = {a_next_tmp.shape}\\n\")\n",
    "\n",
    "print(f\"yt[1] = {yt_tmp[1]}\")\n",
    "print(f\"yt.shape = {yt_tmp.shape}\\n\")\n",
    "\n",
    "print(f\"cache[1][3] = {cache_tmp[1][3]}\")\n",
    "print(f\"len(cache) = {len(cache_tmp)}\")"
   ]
  }
 ],
 "metadata": {
  "kernelspec": {
   "display_name": "cs587",
   "language": "python",
   "name": "python3"
  },
  "language_info": {
   "codemirror_mode": {
    "name": "ipython",
    "version": 3
   },
   "file_extension": ".py",
   "mimetype": "text/x-python",
   "name": "python",
   "nbconvert_exporter": "python",
   "pygments_lexer": "ipython3",
   "version": "3.12.9"
  }
 },
 "nbformat": 4,
 "nbformat_minor": 2
}
